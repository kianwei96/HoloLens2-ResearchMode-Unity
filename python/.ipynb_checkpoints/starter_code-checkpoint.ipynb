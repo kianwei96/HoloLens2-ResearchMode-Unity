{
 "cells": [
  {
   "cell_type": "code",
   "execution_count": 3,
   "metadata": {},
   "outputs": [],
   "source": [
    "import numpy as np\n",
    "import glob\n",
    "import os\n",
    "import matplotlib.pyplot as plt\n",
    "import cv2\n",
    "\n",
    "from tracking_utils import *\n",
    "\n",
    "#np.seterr(all=\"ignore\")"
   ]
  },
  {
   "cell_type": "markdown",
   "metadata": {},
   "source": [
    "# camera intrinsics/rig extrinsics \n",
    "## (to be modified to pull live data in the future)"
   ]
  },
  {
   "cell_type": "code",
   "execution_count": 4,
   "metadata": {},
   "outputs": [],
   "source": [
    "intrinsics = load_lut(\"data/Depth AHaT_lut.bin\")\n",
    "intrinsics_map = np.reshape(intrinsics, (512, 512, -1))\n",
    "\n",
    "right_intrinsics = load_lut(\"data/VLC RF_lut.bin\")\n",
    "right_intrinsics = np.reshape(right_intrinsics, (480, 640, -1)) # correct order?\n",
    "right_intrinsics = np.flip(right_intrinsics, axis=1) # need flip?\n",
    "riflat = np.reshape(right_intrinsics, (-1,3))\n",
    "\n",
    "left_intrinsics = load_lut(\"data/VLC LF_lut.bin\")\n",
    "left_intrinsics = np.reshape(left_intrinsics, (480, 640, -1)) # correct order?\n",
    "left_intrinsics = np.flip(left_intrinsics, axis=0) # need flip?\n",
    "liflat = np.reshape(left_intrinsics, (-1,3))\n",
    "\n",
    "r2d = load_r2c(\"data/Depth AHaT_extrinsics.txt\")\n",
    "d2r = np.linalg.inv(r2d)\n",
    "r2right = load_r2c(\"data/VLC RF_extrinsics.txt\")\n",
    "r2left = load_r2c(\"data/VLC LF_extrinsics.txt\")\n",
    "d2right = r2right.dot(d2r)\n",
    "d2left = r2left.dot(d2r)"
   ]
  },
  {
   "cell_type": "markdown",
   "metadata": {},
   "source": [
    "# get pose data (cam2world) for specified session"
   ]
  },
  {
   "cell_type": "code",
   "execution_count": 5,
   "metadata": {},
   "outputs": [],
   "source": [
    "# time in ms\n",
    "# transforms in metres\n",
    "session_name = \"14-02-2022-23-59-32\"\n",
    "\n",
    "depth_trans = np.reshape(np.loadtxt(\"data/\" + session_name + \"/depthextrinsics.txt\", dtype=str, delimiter=\"\\n\"), (-1,5))\n",
    "depth_trans = np.array([[int(row[0]), np.array(\"\".join(row[1:]).split(\",\")[:-1]).astype(np.float).reshape(4,4).transpose()] for row in depth_trans])\n",
    "left_trans = np.reshape(np.loadtxt(\"data/\" + session_name + \"/leftextrinsics.txt\", dtype=str, delimiter=\"\\n\"), (-1,5))\n",
    "left_trans = np.array([[int(row[0]), np.array(\"\".join(row[1:]).split(\",\")[:-1]).astype(np.float).reshape(4,4).transpose()] for row in left_trans])\n",
    "right_trans = np.reshape(np.loadtxt(\"data/\" + session_name + \"/rightextrinsics.txt\", dtype=str, delimiter=\"\\n\"), (-1,5))\n",
    "right_trans = np.array([[int(row[0]), np.array(\"\".join(row[1:]).split(\",\")[:-1]).astype(np.float).reshape(4,4).transpose()] for row in right_trans])"
   ]
  },
  {
   "cell_type": "markdown",
   "metadata": {},
   "source": [
    "# process and visualize tracked data frame by frame"
   ]
  },
  {
   "cell_type": "code",
   "execution_count": 8,
   "metadata": {},
   "outputs": [
    {
     "name": "stdout",
     "output_type": "stream",
     "text": [
      "bad timings, dropping this frame\n",
      "1169\r"
     ]
    }
   ],
   "source": [
    "delta_threshold = [40, 500] # grab stream data with X ms of left frame\n",
    "\n",
    "for idx, left_t in enumerate(left_trans[:,0]):\n",
    "\n",
    "    closest_right_idx = np.argmin(np.abs(left_t - right_trans[:,0]))\n",
    "    closest_depth_idx = np.argmin(np.abs(left_t - depth_trans[:,0]))\n",
    "    if np.abs(right_trans[closest_right_idx,0] - left_t) > delta_threshold[0]:\n",
    "        print('bad timings, dropping this frame')\n",
    "        continue\n",
    "    if np.abs(depth_trans[closest_depth_idx,0] - left_t) > delta_threshold[1]:\n",
    "        print('bad timings, dropping this frame')\n",
    "        continue            \n",
    "        \n",
    "    left_image = np.flip(cv2.imread(\"data/\" + session_name + \"/left/\" + str(left_t) + \"_left.pgm\").swapaxes(0,1), axis=1)\n",
    "    right_image = np.flip(cv2.imread(\"data/\" + session_name + \"/right/\" + str(right_trans[closest_right_idx,0]) + \"_right.pgm\").swapaxes(0,1), axis=0)\n",
    "    depth_map = cv2.imread(\"data/\" + session_name + \"/depth/\" + str(depth_trans[closest_depth_idx,0]) + \"_depth.pgm\", -1)\n",
    "    bright_map = cv2.imread(\"data/\" + session_name + \"/depth/\" + str(depth_trans[closest_depth_idx,0]) + \"_abImage.pgm\", -1)\n",
    "\n",
    "    left2w = left_trans[idx][1].copy()\n",
    "    right2w = left_trans[idx][1].copy()\n",
    "    \n",
    "    print(idx, end='\\r')\n",
    "    "
   ]
  },
  {
   "cell_type": "code",
   "execution_count": null,
   "metadata": {},
   "outputs": [],
   "source": []
  }
 ],
 "metadata": {
  "kernelspec": {
   "display_name": "Python 3",
   "language": "python",
   "name": "python3"
  },
  "language_info": {
   "codemirror_mode": {
    "name": "ipython",
    "version": 3
   },
   "file_extension": ".py",
   "mimetype": "text/x-python",
   "name": "python",
   "nbconvert_exporter": "python",
   "pygments_lexer": "ipython3",
   "version": "3.8.3"
  }
 },
 "nbformat": 4,
 "nbformat_minor": 4
}
